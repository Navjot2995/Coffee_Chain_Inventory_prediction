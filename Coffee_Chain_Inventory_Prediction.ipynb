{
 "cells": [
  {
   "cell_type": "markdown",
   "id": "9046fd77",
   "metadata": {},
   "source": [
    "# ☕ Coffee Chain Inventory Prediction\n",
    "This project aims to predict inventory levels for a fictional U.S.-based coffee chain using historical sales, marketing, product, and financial data."
   ]
  },
  {
   "cell_type": "code",
   "execution_count": null,
   "id": "865ce355",
   "metadata": {},
   "outputs": [],
   "source": [
    "import pandas as pd\n",
    "import numpy as np\n",
    "import matplotlib.pyplot as plt\n",
    "import seaborn as sns\n",
    "\n",
    "from sklearn.model_selection import train_test_split\n",
    "from sklearn.preprocessing import LabelEncoder\n",
    "from sklearn.linear_model import LinearRegression\n",
    "from sklearn.ensemble import RandomForestRegressor\n",
    "from sklearn.metrics import mean_absolute_error, mean_squared_error, r2_score\n",
    "import xgboost as xgb"
   ]
  },
  {
   "cell_type": "code",
   "execution_count": null,
   "id": "d8fe6645",
   "metadata": {},
   "outputs": [],
   "source": [
    "df = pd.read_csv(\"Coffee_chain.csv\")\n",
    "df.head()"
   ]
  },
  {
   "cell_type": "code",
   "execution_count": null,
   "id": "fd48fe49",
   "metadata": {},
   "outputs": [],
   "source": [
    "df.info()\n",
    "df.describe()\n",
    "df.isnull().sum()"
   ]
  },
  {
   "cell_type": "code",
   "execution_count": null,
   "id": "f7c08a59",
   "metadata": {},
   "outputs": [],
   "source": [
    "corr_matrix = df.corr(numeric_only=True)\n",
    "top_corr = corr_matrix[\"Inventory\"].abs().sort_values(ascending=False).head(10)\n",
    "top_corr_features = top_corr.index\n",
    "\n",
    "plt.figure(figsize=(10, 6))\n",
    "sns.heatmap(df[top_corr_features].corr(), annot=True, cmap=\"coolwarm\")\n",
    "plt.title(\"Top Feature Correlations with Inventory\")\n",
    "plt.tight_layout()\n",
    "plt.show()"
   ]
  },
  {
   "cell_type": "code",
   "execution_count": null,
   "id": "02524192",
   "metadata": {},
   "outputs": [],
   "source": [
    "# Drop Date column if non-informative\n",
    "df.drop(columns=[\"Date\"], inplace=True, errors='ignore')\n",
    "\n",
    "# Encode categoricals\n",
    "cat_cols = df.select_dtypes(include='object').columns\n",
    "for col in cat_cols:\n",
    "    df[col] = LabelEncoder().fit_transform(df[col])\n",
    "\n",
    "# Split data\n",
    "X = df.drop(\"Inventory\", axis=1)\n",
    "y = df[\"Inventory\"]\n",
    "X_train, X_test, y_train, y_test = train_test_split(X, y, test_size=0.2, random_state=42)"
   ]
  },
  {
   "cell_type": "code",
   "execution_count": null,
   "id": "13f83d9a",
   "metadata": {},
   "outputs": [],
   "source": [
    "models = {\n",
    "    \"Linear Regression\": LinearRegression(),\n",
    "    \"Random Forest\": RandomForestRegressor(n_estimators=100, random_state=42),\n",
    "    \"XGBoost\": xgb.XGBRegressor(random_state=42)\n",
    "}\n",
    "\n",
    "for name, model in models.items():\n",
    "    model.fit(X_train, y_train)\n",
    "    y_pred = model.predict(X_test)\n",
    "    print(f\"{name}\\nMAE: {mean_absolute_error(y_test, y_pred):.2f} | RMSE: {mean_squared_error(y_test, y_pred, squared=False):.2f} | R²: {r2_score(y_test, y_pred):.4f}\\n\")"
   ]
  },
  {
   "cell_type": "code",
   "execution_count": null,
   "id": "bcfbc107",
   "metadata": {},
   "outputs": [],
   "source": [
    "rf_model = models[\"Random Forest\"]\n",
    "importances = rf_model.feature_importances_\n",
    "feat_imp = pd.Series(importances, index=X.columns).sort_values(ascending=False)[:15]\n",
    "\n",
    "plt.figure(figsize=(10, 6))\n",
    "feat_imp.plot(kind='barh')\n",
    "plt.title(\"Top 15 Feature Importances - Random Forest\")\n",
    "plt.gca().invert_yaxis()\n",
    "plt.tight_layout()\n",
    "plt.show()"
   ]
  },
  {
   "cell_type": "markdown",
   "id": "1d11f192",
   "metadata": {},
   "source": [
    "### ✅ Summary\n",
    "- `Cogs`, `Marketing`, and `Target COGS` are strong predictors of inventory.\n",
    "- Random Forest and XGBoost gave the best prediction scores.\n",
    "- This model can assist coffee chains in optimizing stock levels and reducing over/understock."
   ]
  }
 ],
 "metadata": {},
 "nbformat": 4,
 "nbformat_minor": 5
}